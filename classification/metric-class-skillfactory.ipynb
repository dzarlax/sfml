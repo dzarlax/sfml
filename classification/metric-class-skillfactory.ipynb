{
 "cells": [
  {
   "cell_type": "markdown",
   "metadata": {},
   "source": [
    "<center><img src=\"img/skillfactorylogo.png\"></center>\n",
    "\n",
    "<h1><center>Курс \"Практический Machine Learning\"</center></h1>\n",
    "<h3><center>Шестаков Андрей</center></h3>\n",
    "<hr>\n",
    "<h2><center>Повторение метрик качества</center></h2>\n",
    "<h2><center>Метрические методы, KNN</center></h2>"
   ]
  },
  {
   "cell_type": "code",
   "execution_count": 91,
   "metadata": {},
   "outputs": [],
   "source": [
    "import pandas as pd\n",
    "import numpy as np\n",
    "import matplotlib.pyplot as plt\n",
    "\n",
    "%matplotlib inline\n",
    "\n",
    "plt.style.use('ggplot')\n",
    "plt.rcParams['figure.figsize'] = (12,8)\n",
    "\n",
    "from ipywidgets import interact, IntSlider, FloatSlider"
   ]
  },
  {
   "cell_type": "markdown",
   "metadata": {},
   "source": [
    "# Небольшое повторение"
   ]
  },
  {
   "cell_type": "markdown",
   "metadata": {},
   "source": [
    "## Обобщающая способность алгоритма\n",
    "\n",
    "* Можно построить алгоритм с идеальным качеством на обучающей выборке\n",
    "* Profit???\n",
    "* Nope...\n",
    "* Важно понимать, насколько хорошо работает алгоритм на объектах, которые он ранее не видел\n",
    "\n",
    "\n",
    "* Недообучение (underfitting) – модель сильно упростила искомую зависимость\n",
    "* Переобучение (overfitting) – модель подогналась даже под шум в данных\n",
    "\n",
    "<center><img src='img/overfit.png' width=900></center>"
   ]
  },
  {
   "cell_type": "markdown",
   "metadata": {},
   "source": [
    "## Оценка обобщающей способности\n",
    "\n",
    "<center><img src='img/cv.png' width=900></center>"
   ]
  },
  {
   "cell_type": "markdown",
   "metadata": {
    "slideshow": {
     "slide_type": "slide"
    }
   },
   "source": [
    "# Меры качества классификации"
   ]
  },
  {
   "cell_type": "markdown",
   "metadata": {
    "slideshow": {
     "slide_type": "subslide"
    }
   },
   "source": [
    "## Меры качества классификации\n",
    "\n",
    "* Как правило, классификаторы выдают не просто предсказанную метку класса, но и степень уверенности в ней\n",
    "* Основные меры качества\n",
    "    * Accuracy\n",
    "    * Precision, Recall, F-measure\n",
    "    * ROC-AUC, PR-AUC Gini-index, Model-lift\n",
    "    * Log-loss"
   ]
  },
  {
   "cell_type": "markdown",
   "metadata": {
    "slideshow": {
     "slide_type": "subslide"
    }
   },
   "source": [
    "## Матрица перемешивания\n",
    "\n",
    "Матрица перемешивания $M=\\{m_{ij}\\}_{i,j=1}^{C}$ показывает количество объектов класса $с_{i}$, которые были отнесены классификатором к классу $с_{j}$.\n",
    "\n",
    "<center><img src='img/confusion.jpg'><center/>"
   ]
  },
  {
   "cell_type": "markdown",
   "metadata": {
    "slideshow": {
     "slide_type": "subslide"
    }
   },
   "source": [
    "## Матрица перемешивания (2 класса)\n",
    "\n",
    "\n",
    "<center><img src='img/binary_conf.png'></center>\n",
    "* TP (true positive) - Верное предсказание (+1)\n",
    "* FP (false positive) - Ошибка первого рода (ложная тревога)\n",
    "* FN (false negative) - Ошибка второго рода (пропуск цели)\n",
    "* TN (true negative) - Верное предсказание (-1)\n",
    "* Pos (Neg) - Общее количество +1 и -1"
   ]
  },
  {
   "cell_type": "markdown",
   "metadata": {
    "slideshow": {
     "slide_type": "subslide"
    }
   },
   "source": [
    "## Меры на основе матрицы перемешивания\n",
    "\n",
    "<center><img src='img/binary_conf.png'></center>\n",
    "\n",
    "\n",
    "* $ \\text{accuracy} = \\frac{TP + TN}{Pos+Neg}$\n",
    "* $ \\text{error rate} = 1 -\\text{accuracy}$\n",
    "* $ \\text{recall} =\\frac{TP}{TP + FN} = \\frac{TP}{Pos}$ - (полнота)\n",
    "* $ \\text{precision} =\\frac{TP}{TP + FP}$ - (точность)\n",
    "* $ \\text{F}_\\beta \\text{-score} = (1 + \\beta^2) \\cdot \\frac{\\mathrm{precision} \\cdot \\mathrm{recall}}{(\\beta^2 \\cdot \\mathrm{precision}) + \\mathrm{recall}}$\n",
    "    * почему не среднее или максимум?\n"
   ]
  },
  {
   "cell_type": "markdown",
   "metadata": {
    "slideshow": {
     "slide_type": "fragment"
    }
   },
   "source": [
    "* Можно ли посчитать эти меры для многоклассовой классификации?"
   ]
  },
  {
   "cell_type": "code",
   "execution_count": 92,
   "metadata": {
    "slideshow": {
     "slide_type": "notes"
    }
   },
   "outputs": [],
   "source": [
    "from mpl_toolkits.mplot3d import Axes3D\n",
    "\n",
    "\n",
    "def demo_fscore(beta=1):\n",
    "    \n",
    "    fig = plt.figure()\n",
    "    ax = fig.gca(projection='3d')\n",
    "    \n",
    "    prec = np.linspace(0, 1, 100)\n",
    "    rec = np.linspace(0, 1, 100)\n",
    "    \n",
    "    P, R = np.meshgrid(prec, rec)\n",
    "    \n",
    "    F = (1 + beta**2) * (P*R)/((beta**2 * P) + R)\n",
    "    \n",
    "    surf = ax.plot_surface(P, R, F, cmap=plt.cm.coolwarm, alpha=0.3,\n",
    "                               linewidth=0, antialiased=False)\n",
    "\n",
    "    ax.set_zlim(-0.01, 1.01)\n",
    "    \n",
    "    ax.view_init(30,200)\n",
    "    ax.set_xlabel('precision')\n",
    "    ax.set_ylabel('recall')\n",
    "    ax.set_zlabel('F-score')\n",
    "    ax.set_title('beta = %.2f'%beta)\n",
    "\n",
    "    fig.colorbar(surf)\n",
    "    plt.show()\n",
    "    \n",
    "   "
   ]
  },
  {
   "cell_type": "code",
   "execution_count": 93,
   "metadata": {
    "slideshow": {
     "slide_type": "subslide"
    }
   },
   "outputs": [
    {
     "data": {
      "application/vnd.jupyter.widget-view+json": {
       "model_id": "03d60d4e8bf14b27860d615da5fbf6b6",
       "version_major": 2,
       "version_minor": 0
      },
      "text/plain": [
       "interactive(children=(FloatSlider(value=1.0, description='beta', max=5.0, min=0.1, step=0.3), Output()), _dom_…"
      ]
     },
     "metadata": {},
     "output_type": "display_data"
    }
   ],
   "source": [
    "fig = interact(demo_fscore, beta=FloatSlider(min=0.1, max=5, step=0.3, value=1))"
   ]
  },
  {
   "cell_type": "markdown",
   "metadata": {
    "slideshow": {
     "slide_type": "slide"
    }
   },
   "source": [
    "## Меры качества на основе уверенности классификатора"
   ]
  },
  {
   "cell_type": "markdown",
   "metadata": {
    "slideshow": {
     "slide_type": "subslide"
    }
   },
   "source": [
    "## ROC кривая\n",
    "\n",
    "* Выбор порога классификации - отдельная большая задача\n",
    "* Можно ли как-то обойтись без него и сравнить неколько моделей?\n",
    "\n",
    "\n",
    "* ROC кривая - показывает зависимость между TPR (верным предсказанием) и FPR (ложным срабатыванием)\n",
    "<center><img src='img/roc.png' width=400></center>\n"
   ]
  },
  {
   "cell_type": "markdown",
   "metadata": {
    "slideshow": {
     "slide_type": "subslide"
    }
   },
   "source": [
    "## ROC кривая\n",
    "\n",
    "* Классификатор $a(x)$ возвращает степень принадлежности к классу \"+1\" - score(x).\n",
    "* Упорядочим объекты по убыванию score(x)\n",
    "* Смотрим сверху вниз\n",
    "    * Если объект принадлежит классу \"+1\" - сдвиг вверх на $1/Pos$\n",
    "    * Если объект принадлежит классу \"-1\" - сдвиг вправо на $1/Neg$\n",
    "<style type=\"text/css\">\n",
    ".tg  {border-collapse:collapse;border-spacing:0;}\n",
    ".tg td{font-family:Arial, sans-serif;font-size:14px;padding:10px 5px;border-style:solid;border-width:1px;overflow:hidden;word-break:normal;}\n",
    ".tg th{font-family:Arial, sans-serif;font-size:14px;font-weight:normal;padding:10px 5px;border-style:solid;border-width:1px;overflow:hidden;word-break:normal;}\n",
    "</style>\n",
    "<table class=\"tg\">\n",
    "  <tr>\n",
    "    <th class=\"tg-031e\"><img src='img/roc1.png'></th>\n",
    "    <th class=\"tg-031e\"><img src='img/roc2.png'></th>\n",
    "  </tr>\n",
    "</table>\n",
    "\n"
   ]
  },
  {
   "cell_type": "markdown",
   "metadata": {
    "slideshow": {
     "slide_type": "subslide"
    }
   },
   "source": [
    "## Как сравнивать ROC-кривые?\n",
    "<center><img src='img/roc.png'></center>"
   ]
  },
  {
   "cell_type": "markdown",
   "metadata": {
    "slideshow": {
     "slide_type": "subslide"
    }
   },
   "source": [
    "## ROC-AUC\n",
    "* Площадь под ROC кривой\n",
    "\n",
    "* AUC$\\in[0,1]$\n",
    "    * AUC = 0.5 - случайный классификатора\n",
    "    * AUC = 1 - идеальный классификатор"
   ]
  },
  {
   "cell_type": "markdown",
   "metadata": {
    "slideshow": {
     "slide_type": "subslide"
    }
   },
   "source": [
    "## Precision-Recall Кривая\n",
    "\n",
    "* Строится аналогичным образом, но по осям Precision и Recall для разных порогов\n",
    "\n",
    "<center><img src='http://scikit-learn.org/stable/_images/sphx_glr_plot_precision_recall_001.png'></center>"
   ]
  },
  {
   "cell_type": "markdown",
   "metadata": {
    "slideshow": {
     "slide_type": "subslide"
    }
   },
   "source": [
    "## Model Lift\n",
    "\n",
    "* Редко используется при соревнованиях по ML и DA\n",
    "* Очень любят и понимают заказчики\n",
    "\n",
    "\n",
    "* Вновь упорядочим объекты по убыванию score(x)\n",
    "* Разобьем на процентили\n",
    "* Посчитаем отношение доли +1 в процентиле к доле +1 по всей выборке\n",
    "<center><img src='img/lift.png' width=700></center>\n"
   ]
  },
  {
   "cell_type": "markdown",
   "metadata": {},
   "source": [
    "# Метод Ближайших соседей"
   ]
  },
  {
   "cell_type": "markdown",
   "metadata": {
    "collapsed": true,
    "slideshow": {
     "slide_type": "subslide"
    }
   },
   "source": [
    "## Гипотеза компактности\n",
    "\n",
    "Метрические методы классификации - одни из самых простых моделей. Они основаны на гипотезе компактности - близким объектам соответствуют близкие ответы.\n"
   ]
  },
  {
   "cell_type": "markdown",
   "metadata": {
    "slideshow": {
     "slide_type": "subslide"
    }
   },
   "source": [
    "<center><img src='http://ichef-1.bbci.co.uk/news/624/cpsprodpb/13ED9/production/_87552618_fourupcomp.jpg' width=500></center>\n",
    "\n",
    "* Объекты: Семьи, индивиды\n",
    "* Признаки: Адрес проживания, почтовый индекс, популярный супермаркет... $\\rightarrow$ координаты `(lat, lon)`\n",
    "* Предскание: Раса (классификация)"
   ]
  },
  {
   "cell_type": "markdown",
   "metadata": {
    "slideshow": {
     "slide_type": "subslide"
    }
   },
   "source": [
    "<center><img src='img\\california_house.png' width=500></center>\n",
    "\n",
    "* Объекты: Недвижимость\n",
    "* Признаки: Адрес дома... $\\rightarrow$ координаты `(lat, lon)`\n",
    "* Предсказание: Стоимость дома (регрессия)"
   ]
  },
  {
   "cell_type": "markdown",
   "metadata": {
    "slideshow": {
     "slide_type": "subslide"
    }
   },
   "source": [
    "<center><img src='img\\dna_seq.png' width=900></center>\n",
    "* Объекты: Строки\n",
    "* Признаки: ??\n",
    "* Предсказание: Функциональность гена (класс)"
   ]
  },
  {
   "cell_type": "markdown",
   "metadata": {
    "slideshow": {
     "slide_type": "subslide"
    }
   },
   "source": [
    "<hr>\n",
    "<center><img src='img\\text_classify.png' width=600></center>\n",
    "* Объекты: Тексты статей, постов блогов\n",
    "* Признаки: Частоты слов\n",
    "* Предсказание: Категория текста (класс)"
   ]
  },
  {
   "cell_type": "markdown",
   "metadata": {
    "slideshow": {
     "slide_type": "slide"
    }
   },
   "source": [
    "# Меры близости\n",
    "\n",
    "* Как определить похожие объекты?\n",
    "\n",
    "* Необходимо ввести функцию расстояния (не обязательно метрику)\n",
    "\n",
    "### Самые популярные\n",
    "\n",
    "$$ d(a, b) = \\sum\\limits_{i=1}^{D}(a_i - b_i)^2 \\text{: euclidean distance} $$\n",
    "\n",
    "$$ d(a, b) = \\sum\\limits_{i=1}^{D}|a_i - b_i| \\text{: manhattan distance} $$\n",
    "\n",
    "$$ d(a, b) = 1 - \\frac{\\langle a,b \\rangle}{||a||_2\\cdot||b||_2} \\text{: cosine distance} $$\n",
    "\n"
   ]
  },
  {
   "cell_type": "markdown",
   "metadata": {
    "slideshow": {
     "slide_type": "subslide"
    }
   },
   "source": [
    "### Близость на строках\n",
    "* Расстояние Левинштейна\n",
    "Количество вставок, замен и удалений, которое необходимо сделать, чтобы получить из строки $S_1$ строку $S_2$"
   ]
  },
  {
   "cell_type": "markdown",
   "metadata": {
    "slideshow": {
     "slide_type": "subslide"
    }
   },
   "source": [
    "<center><img src='img\\levinstein_dist.png' width=400></center>"
   ]
  },
  {
   "cell_type": "markdown",
   "metadata": {
    "slideshow": {
     "slide_type": "subslide"
    }
   },
   "source": [
    "### Близость на множествах\n",
    "* Пусть объект описываеться набором категорий, слов, тегов\n",
    "    * Клиент a: {Картофель фри, биг-мак, кофе, маффин}\n",
    "    * Клиент b: {Картофель фри, сырный соус, чизбургер, кофе, пирожок}\n",
    "* Расстояние Жаккара - Jaccard distance:\n",
    "    * $$d(a,b) = 1 - \\frac{|a \\cap b|}{|a \\cup b|}$$\n",
    "    * $$d(a,b) = 1 - \\frac{2}{7} = \\frac{5}{7} $$\n",
    "* При правильном представлении данных, можно считать и косинус"
   ]
  },
  {
   "cell_type": "markdown",
   "metadata": {
    "slideshow": {
     "slide_type": "slide"
    }
   },
   "source": [
    "# Метод k ближайших соседей\n",
    "\n",
    "Вход: Обучающая выборка $X=(x_i,y_i)$, мера близости $d(\\cdot, \\cdot)$ и объект $\\tilde{x}$<br/>\n",
    "\n",
    "Найти $k$ ближайших объекта в $X$ c помощью $d(\\tilde{x},\\cdot)$ \n",
    "* (классификация) вернуть наиболее частую метку класса\n",
    "* (вероятность) вернуть долю объектов каждого из классов среди ближайших соседей\n"
   ]
  },
  {
   "cell_type": "markdown",
   "metadata": {},
   "source": [
    "<center><img src='https://upload.wikimedia.org/wikipedia/commons/thumb/e/e7/KnnClassification.svg/220px-KnnClassification.svg.png' width=400></center>"
   ]
  },
  {
   "cell_type": "markdown",
   "metadata": {},
   "source": [
    "#### Начинаем щупать kNN и sklearn!"
   ]
  },
  {
   "cell_type": "markdown",
   "metadata": {},
   "source": [
    "Попробуем kNN на игрушечном датасете"
   ]
  },
  {
   "cell_type": "code",
   "execution_count": 94,
   "metadata": {},
   "outputs": [],
   "source": [
    "from sklearn.datasets import make_moons\n",
    "\n",
    "plt.style.use('ggplot')\n",
    "\n",
    "%matplotlib inline"
   ]
  },
  {
   "cell_type": "code",
   "execution_count": 95,
   "metadata": {},
   "outputs": [
    {
     "data": {
      "text/plain": [
       "<matplotlib.collections.PathCollection at 0x1a1dc4ea58>"
      ]
     },
     "execution_count": 95,
     "metadata": {},
     "output_type": "execute_result"
    },
    {
     "data": {
      "image/png": "[encoded data removed]",
      "text/plain": [
       "<Figure size 432x288 with 1 Axes>"
      ]
     },
     "metadata": {},
     "output_type": "display_data"
    }
   ],
   "source": [
    "X, y = make_moons(noise=0.3, random_state=123)\n",
    "plt.scatter(X[:,0], X[:,1], c=y)"
   ]
  },
  {
   "cell_type": "code",
   "execution_count": 96,
   "metadata": {},
   "outputs": [
    {
     "data": {
      "text/plain": [
       "KNeighborsClassifier(algorithm='auto', leaf_size=30, metric='euclidean',\n",
       "           metric_params=None, n_jobs=1, n_neighbors=1, p=2,\n",
       "           weights='uniform')"
      ]
     },
     "execution_count": 96,
     "metadata": {},
     "output_type": "execute_result"
    }
   ],
   "source": [
    "from sklearn.neighbors import KNeighborsClassifier\n",
    "from sklearn.cross_validation import train_test_split\n",
    "\n",
    "knn = KNeighborsClassifier(n_neighbors=1, weights='uniform', metric='euclidean')\n",
    "knn.fit(X, y)"
   ]
  },
  {
   "cell_type": "code",
   "execution_count": 97,
   "metadata": {},
   "outputs": [],
   "source": [
    "y_hat = knn.predict(X)"
   ]
  },
  {
   "cell_type": "code",
   "execution_count": 98,
   "metadata": {},
   "outputs": [
    {
     "data": {
      "text/plain": [
       "(100, 2)"
      ]
     },
     "execution_count": 98,
     "metadata": {},
     "output_type": "execute_result"
    }
   ],
   "source": [
    "y_hat_proba = knn.predict_proba(X)\n",
    "y_hat_proba.shape"
   ]
  },
  {
   "cell_type": "code",
   "execution_count": 99,
   "metadata": {},
   "outputs": [
    {
     "data": {
      "text/plain": [
       "<matplotlib.collections.PathCollection at 0x1a1daaa208>"
      ]
     },
     "execution_count": 99,
     "metadata": {},
     "output_type": "execute_result"
    },
    {
     "data": {
      "image/png": "[encoded data removed]",
      "text/plain": [
       "<Figure size 432x288 with 1 Axes>"
      ]
     },
     "metadata": {},
     "output_type": "display_data"
    }
   ],
   "source": [
    "x_range = np.linspace(X.min(), X.max(), 100)\n",
    "# ОДЗ значений признаков\n",
    "\n",
    "xx1, xx2 = np.meshgrid(x_range, x_range)\n",
    "# всевозможные попарные значения признаков\n",
    "\n",
    "Y = knn.predict_proba(np.c_[xx1.ravel(), xx2.ravel()])[:,1]\n",
    "Y = Y.reshape(xx1.shape)\n",
    "\n",
    "plt.contourf(xx1, xx2, Y, alpha=0.3)\n",
    "plt.scatter(X[:,0], X[:,1],c=y)"
   ]
  },
  {
   "cell_type": "markdown",
   "metadata": {
    "slideshow": {
     "slide_type": "fragment"
    }
   },
   "source": [
    "Проблема - никак не учитывается важность соседей в зависимости от их близости!"
   ]
  },
  {
   "cell_type": "markdown",
   "metadata": {
    "slideshow": {
     "slide_type": "subslide"
    }
   },
   "source": [
    "## Взвешенный KNN\n",
    "\n",
    "* (классификация) вернуть наиболее частую метку класса c учетом веса\n",
    "* (вероятноть) вернуть долю каждого класса с учетом весов\n",
    "$$\\hat{y} = \\arg \\max\\limits_{y \\in \\{-1, 1\\}}\\sum\\limits_{j=1}^k w_{(j)} [y_{(j)} == y] $$\n",
    "\n",
    "### Варианты весов\n",
    "* $w_{(j)} = \\frac{k - j + 1}{k}$\n",
    "* $w_{(j)} = 1/d(\\tilde{x},x_{(j)})$\n",
    "* $w_{(j)} = K(\\frac{d(\\tilde{x},x_{(j)})}{h}) $\n",
    "    * $K$ - ядро, $h$ - ширина окна\n"
   ]
  },
  {
   "cell_type": "markdown",
   "metadata": {
    "slideshow": {
     "slide_type": "subslide"
    }
   },
   "source": [
    "### Ядра\n",
    "* $K(d, h) \\propto \\exp(- \\frac{d^2}{2h^2})$ - gaussian kernel\n",
    "* $K(d, h) \\propto 1 if x < d$ - tophat kernel\n",
    "* $K(d, h) \\propto 1 - \\frac{d^2}{h^2}$ - epanechnikov kernel\n",
    "* $K(d, h) \\propto \\exp(-d/h)$ - exponential kernel\n",
    "* $K(d, h) \\propto 1 - d/h if d < h$ - linear kernel\n",
    "* $K(d, h) \\propto \\cos(\\frac{\\pi d}{2h}) if x < h$ - linear kernel\n",
    "\n",
    "<center><img src='http://scikit-learn.org/stable/_images/sphx_glr_plot_kde_1d_0021.png'></center>"
   ]
  },
  {
   "cell_type": "code",
   "execution_count": 100,
   "metadata": {
    "slideshow": {
     "slide_type": "skip"
    }
   },
   "outputs": [],
   "source": [
    "def plot_knn_class_kernel(k=1, prob=False, use_dist=False):\n",
    "        \n",
    "    plt.scatter(X[:,0], X[:,1], c=y)\n",
    "    plt.xlabel('$x_1$')\n",
    "    plt.ylabel('$x_2$')\n",
    "    \n",
    "    if use_dist:\n",
    "        knn = KNeighborsClassifier(n_neighbors=70, metric='minkowski', p=2, weights='distance')\n",
    "    else:\n",
    "        knn = KNeighborsClassifier(n_neighbors=k, metric='minkowski', p=2, weights='uniform')\n",
    "    knn.fit(X, y)\n",
    "    \n",
    "    x_range = np.linspace(X.min(), X.max(), 500)\n",
    "    # ОДЗ значений признаков\n",
    "\n",
    "    xx1, xx2 = np.meshgrid(x_range, x_range)\n",
    "    # всевозможные попарные значения признаков\n",
    "    if prob:\n",
    "        Y = knn.predict_proba(np.c_[xx1.ravel(), xx2.ravel()])[:,1]\n",
    "    else:\n",
    "        Y = knn.predict(np.c_[xx1.ravel(), xx2.ravel()])\n",
    "    Y = Y.reshape(xx1.shape)\n",
    "\n",
    "    plt.contourf(xx1, xx2, Y, alpha=0.3)\n",
    "    plt.scatter(X[:,0], X[:,1], c=y)\n",
    "    \n",
    "    plt.show()"
   ]
  },
  {
   "cell_type": "code",
   "execution_count": 101,
   "metadata": {
    "slideshow": {
     "slide_type": "subslide"
    }
   },
   "outputs": [
    {
     "data": {
      "application/vnd.jupyter.widget-view+json": {
       "model_id": "89465c5d0aa044bf9a67dcb589fe59bf",
       "version_major": 2,
       "version_minor": 0
      },
      "text/plain": [
       "interactive(children=(IntSlider(value=1, description='k', max=10, min=1), Checkbox(value=False, description='p…"
      ]
     },
     "metadata": {},
     "output_type": "display_data"
    }
   ],
   "source": [
    "fig = interact(plot_knn_class_kernel, k=IntSlider(min=1, max=10, value=1))"
   ]
  },
  {
   "cell_type": "markdown",
   "metadata": {
    "slideshow": {
     "slide_type": "slide"
    }
   },
   "source": [
    "# Параметры vs Гиперпараметры\n",
    "\n",
    "При работе с моделями следует различать понятия **Параметр** и **Гипер-параметр**.\n",
    "\n",
    "* **Параметр** - составляющая модели, которая определяется в процессе обучения (решения оптимизационной задачи)\n",
    "    * Веса коэффициентов в модели линейной регрессии\n",
    "* **Гиперпараметр** - составляющая модели, которая задается перед началом обучения. Может регулировать некоторые свойства модели (скорость оптимизации) или ее сложность\n",
    "    * Коэффициент регуляризации в линейной регрессии\n",
    "    \n",
    "Как дела обстоят у kNN?\n"
   ]
  },
  {
   "cell_type": "markdown",
   "metadata": {
    "slideshow": {
     "slide_type": "subslide"
    }
   },
   "source": [
    "#### Гиперпараметры kNN\n",
    "\n",
    "* Число соседей\n",
    "* Функция расстояния\n",
    "* Ядро, ширина окна"
   ]
  },
  {
   "cell_type": "markdown",
   "metadata": {},
   "source": [
    "# Данные с оттоком клиентов"
   ]
  },
  {
   "cell_type": "markdown",
   "metadata": {},
   "source": [
    "Загрузите данные об оттоке клиентов через pandas."
   ]
  },
  {
   "cell_type": "code",
   "execution_count": 102,
   "metadata": {
    "scrolled": true
   },
   "outputs": [],
   "source": [
    "df_churn = pd.read_csv('data/churn.csv')"
   ]
  },
  {
   "cell_type": "code",
   "execution_count": 103,
   "metadata": {},
   "outputs": [
    {
     "data": {
      "text/html": [
       "<div>\n",
       "<style scoped>\n",
       "    .dataframe tbody tr th:only-of-type {\n",
       "        vertical-align: middle;\n",
       "    }\n",
       "\n",
       "    .dataframe tbody tr th {\n",
       "        vertical-align: top;\n",
       "    }\n",
       "\n",
       "    .dataframe thead th {\n",
       "        text-align: right;\n",
       "    }\n",
       "</style>\n",
       "<table border=\"1\" class=\"dataframe\">\n",
       "  <thead>\n",
       "    <tr style=\"text-align: right;\">\n",
       "      <th></th>\n",
       "      <th>0</th>\n",
       "      <th>1</th>\n",
       "      <th>2</th>\n",
       "      <th>3</th>\n",
       "      <th>4</th>\n",
       "    </tr>\n",
       "  </thead>\n",
       "  <tbody>\n",
       "    <tr>\n",
       "      <th>State</th>\n",
       "      <td>KS</td>\n",
       "      <td>OH</td>\n",
       "      <td>NJ</td>\n",
       "      <td>OH</td>\n",
       "      <td>OK</td>\n",
       "    </tr>\n",
       "    <tr>\n",
       "      <th>Account Length</th>\n",
       "      <td>128</td>\n",
       "      <td>107</td>\n",
       "      <td>137</td>\n",
       "      <td>84</td>\n",
       "      <td>75</td>\n",
       "    </tr>\n",
       "    <tr>\n",
       "      <th>Area Code</th>\n",
       "      <td>415</td>\n",
       "      <td>415</td>\n",
       "      <td>415</td>\n",
       "      <td>408</td>\n",
       "      <td>415</td>\n",
       "    </tr>\n",
       "    <tr>\n",
       "      <th>Phone</th>\n",
       "      <td>382-4657</td>\n",
       "      <td>371-7191</td>\n",
       "      <td>358-1921</td>\n",
       "      <td>375-9999</td>\n",
       "      <td>330-6626</td>\n",
       "    </tr>\n",
       "    <tr>\n",
       "      <th>Int'l Plan</th>\n",
       "      <td>no</td>\n",
       "      <td>no</td>\n",
       "      <td>no</td>\n",
       "      <td>yes</td>\n",
       "      <td>yes</td>\n",
       "    </tr>\n",
       "    <tr>\n",
       "      <th>VMail Plan</th>\n",
       "      <td>yes</td>\n",
       "      <td>yes</td>\n",
       "      <td>no</td>\n",
       "      <td>no</td>\n",
       "      <td>no</td>\n",
       "    </tr>\n",
       "    <tr>\n",
       "      <th>VMail Message</th>\n",
       "      <td>25</td>\n",
       "      <td>26</td>\n",
       "      <td>0</td>\n",
       "      <td>0</td>\n",
       "      <td>0</td>\n",
       "    </tr>\n",
       "    <tr>\n",
       "      <th>Day Mins</th>\n",
       "      <td>265.1</td>\n",
       "      <td>161.6</td>\n",
       "      <td>243.4</td>\n",
       "      <td>299.4</td>\n",
       "      <td>166.7</td>\n",
       "    </tr>\n",
       "    <tr>\n",
       "      <th>Day Calls</th>\n",
       "      <td>110</td>\n",
       "      <td>123</td>\n",
       "      <td>114</td>\n",
       "      <td>71</td>\n",
       "      <td>113</td>\n",
       "    </tr>\n",
       "    <tr>\n",
       "      <th>Day Charge</th>\n",
       "      <td>45.07</td>\n",
       "      <td>27.47</td>\n",
       "      <td>41.38</td>\n",
       "      <td>50.9</td>\n",
       "      <td>28.34</td>\n",
       "    </tr>\n",
       "    <tr>\n",
       "      <th>Eve Mins</th>\n",
       "      <td>197.4</td>\n",
       "      <td>195.5</td>\n",
       "      <td>121.2</td>\n",
       "      <td>61.9</td>\n",
       "      <td>148.3</td>\n",
       "    </tr>\n",
       "    <tr>\n",
       "      <th>Eve Calls</th>\n",
       "      <td>99</td>\n",
       "      <td>103</td>\n",
       "      <td>110</td>\n",
       "      <td>88</td>\n",
       "      <td>122</td>\n",
       "    </tr>\n",
       "    <tr>\n",
       "      <th>Eve Charge</th>\n",
       "      <td>16.78</td>\n",
       "      <td>16.62</td>\n",
       "      <td>10.3</td>\n",
       "      <td>5.26</td>\n",
       "      <td>12.61</td>\n",
       "    </tr>\n",
       "    <tr>\n",
       "      <th>Night Mins</th>\n",
       "      <td>244.7</td>\n",
       "      <td>254.4</td>\n",
       "      <td>162.6</td>\n",
       "      <td>196.9</td>\n",
       "      <td>186.9</td>\n",
       "    </tr>\n",
       "    <tr>\n",
       "      <th>Night Calls</th>\n",
       "      <td>91</td>\n",
       "      <td>103</td>\n",
       "      <td>104</td>\n",
       "      <td>89</td>\n",
       "      <td>121</td>\n",
       "    </tr>\n",
       "    <tr>\n",
       "      <th>Night Charge</th>\n",
       "      <td>11.01</td>\n",
       "      <td>11.45</td>\n",
       "      <td>7.32</td>\n",
       "      <td>8.86</td>\n",
       "      <td>8.41</td>\n",
       "    </tr>\n",
       "    <tr>\n",
       "      <th>Intl Mins</th>\n",
       "      <td>10</td>\n",
       "      <td>13.7</td>\n",
       "      <td>12.2</td>\n",
       "      <td>6.6</td>\n",
       "      <td>10.1</td>\n",
       "    </tr>\n",
       "    <tr>\n",
       "      <th>Intl Calls</th>\n",
       "      <td>3</td>\n",
       "      <td>3</td>\n",
       "      <td>5</td>\n",
       "      <td>7</td>\n",
       "      <td>3</td>\n",
       "    </tr>\n",
       "    <tr>\n",
       "      <th>Intl Charge</th>\n",
       "      <td>2.7</td>\n",
       "      <td>3.7</td>\n",
       "      <td>3.29</td>\n",
       "      <td>1.78</td>\n",
       "      <td>2.73</td>\n",
       "    </tr>\n",
       "    <tr>\n",
       "      <th>CustServ Calls</th>\n",
       "      <td>1</td>\n",
       "      <td>1</td>\n",
       "      <td>0</td>\n",
       "      <td>2</td>\n",
       "      <td>3</td>\n",
       "    </tr>\n",
       "    <tr>\n",
       "      <th>Churn?</th>\n",
       "      <td>False.</td>\n",
       "      <td>False.</td>\n",
       "      <td>False.</td>\n",
       "      <td>False.</td>\n",
       "      <td>False.</td>\n",
       "    </tr>\n",
       "  </tbody>\n",
       "</table>\n",
       "</div>"
      ],
      "text/plain": [
       "                       0         1         2         3         4\n",
       "State                 KS        OH        NJ        OH        OK\n",
       "Account Length       128       107       137        84        75\n",
       "Area Code            415       415       415       408       415\n",
       "Phone           382-4657  371-7191  358-1921  375-9999  330-6626\n",
       "Int'l Plan            no        no        no       yes       yes\n",
       "VMail Plan           yes       yes        no        no        no\n",
       "VMail Message         25        26         0         0         0\n",
       "Day Mins           265.1     161.6     243.4     299.4     166.7\n",
       "Day Calls            110       123       114        71       113\n",
       "Day Charge         45.07     27.47     41.38      50.9     28.34\n",
       "Eve Mins           197.4     195.5     121.2      61.9     148.3\n",
       "Eve Calls             99       103       110        88       122\n",
       "Eve Charge         16.78     16.62      10.3      5.26     12.61\n",
       "Night Mins         244.7     254.4     162.6     196.9     186.9\n",
       "Night Calls           91       103       104        89       121\n",
       "Night Charge       11.01     11.45      7.32      8.86      8.41\n",
       "Intl Mins             10      13.7      12.2       6.6      10.1\n",
       "Intl Calls             3         3         5         7         3\n",
       "Intl Charge          2.7       3.7      3.29      1.78      2.73\n",
       "CustServ Calls         1         1         0         2         3\n",
       "Churn?            False.    False.    False.    False.    False."
      ]
     },
     "execution_count": 103,
     "metadata": {},
     "output_type": "execute_result"
    }
   ],
   "source": [
    "df_churn.head().T"
   ]
  },
  {
   "cell_type": "code",
   "execution_count": 104,
   "metadata": {},
   "outputs": [
    {
     "name": "stdout",
     "output_type": "stream",
     "text": [
      "(3333, 21)\n"
     ]
    }
   ],
   "source": [
    "print(df_churn.shape)"
   ]
  },
  {
   "cell_type": "markdown",
   "metadata": {},
   "source": [
    "Это небольшие данные, но у них есть большие проблемы:"
   ]
  },
  {
   "cell_type": "markdown",
   "metadata": {},
   "source": [
    "#### Проблема 1: Признаки разных шкал"
   ]
  },
  {
   "cell_type": "code",
   "execution_count": 105,
   "metadata": {},
   "outputs": [
    {
     "data": {
      "text/html": [
       "<div>\n",
       "<style scoped>\n",
       "    .dataframe tbody tr th:only-of-type {\n",
       "        vertical-align: middle;\n",
       "    }\n",
       "\n",
       "    .dataframe tbody tr th {\n",
       "        vertical-align: top;\n",
       "    }\n",
       "\n",
       "    .dataframe thead th {\n",
       "        text-align: right;\n",
       "    }\n",
       "</style>\n",
       "<table border=\"1\" class=\"dataframe\">\n",
       "  <thead>\n",
       "    <tr style=\"text-align: right;\">\n",
       "      <th></th>\n",
       "      <th>count</th>\n",
       "      <th>unique</th>\n",
       "      <th>top</th>\n",
       "      <th>freq</th>\n",
       "      <th>mean</th>\n",
       "      <th>std</th>\n",
       "      <th>min</th>\n",
       "      <th>25%</th>\n",
       "      <th>50%</th>\n",
       "      <th>75%</th>\n",
       "      <th>max</th>\n",
       "    </tr>\n",
       "  </thead>\n",
       "  <tbody>\n",
       "    <tr>\n",
       "      <th>State</th>\n",
       "      <td>3333</td>\n",
       "      <td>51</td>\n",
       "      <td>WV</td>\n",
       "      <td>106</td>\n",
       "      <td>NaN</td>\n",
       "      <td>NaN</td>\n",
       "      <td>NaN</td>\n",
       "      <td>NaN</td>\n",
       "      <td>NaN</td>\n",
       "      <td>NaN</td>\n",
       "      <td>NaN</td>\n",
       "    </tr>\n",
       "    <tr>\n",
       "      <th>Account Length</th>\n",
       "      <td>3333</td>\n",
       "      <td>NaN</td>\n",
       "      <td>NaN</td>\n",
       "      <td>NaN</td>\n",
       "      <td>101.065</td>\n",
       "      <td>39.8221</td>\n",
       "      <td>1</td>\n",
       "      <td>74</td>\n",
       "      <td>101</td>\n",
       "      <td>127</td>\n",
       "      <td>243</td>\n",
       "    </tr>\n",
       "    <tr>\n",
       "      <th>Area Code</th>\n",
       "      <td>3333</td>\n",
       "      <td>NaN</td>\n",
       "      <td>NaN</td>\n",
       "      <td>NaN</td>\n",
       "      <td>437.182</td>\n",
       "      <td>42.3713</td>\n",
       "      <td>408</td>\n",
       "      <td>408</td>\n",
       "      <td>415</td>\n",
       "      <td>510</td>\n",
       "      <td>510</td>\n",
       "    </tr>\n",
       "    <tr>\n",
       "      <th>Phone</th>\n",
       "      <td>3333</td>\n",
       "      <td>3333</td>\n",
       "      <td>374-8042</td>\n",
       "      <td>1</td>\n",
       "      <td>NaN</td>\n",
       "      <td>NaN</td>\n",
       "      <td>NaN</td>\n",
       "      <td>NaN</td>\n",
       "      <td>NaN</td>\n",
       "      <td>NaN</td>\n",
       "      <td>NaN</td>\n",
       "    </tr>\n",
       "    <tr>\n",
       "      <th>Int'l Plan</th>\n",
       "      <td>3333</td>\n",
       "      <td>2</td>\n",
       "      <td>no</td>\n",
       "      <td>3010</td>\n",
       "      <td>NaN</td>\n",
       "      <td>NaN</td>\n",
       "      <td>NaN</td>\n",
       "      <td>NaN</td>\n",
       "      <td>NaN</td>\n",
       "      <td>NaN</td>\n",
       "      <td>NaN</td>\n",
       "    </tr>\n",
       "    <tr>\n",
       "      <th>VMail Plan</th>\n",
       "      <td>3333</td>\n",
       "      <td>2</td>\n",
       "      <td>no</td>\n",
       "      <td>2411</td>\n",
       "      <td>NaN</td>\n",
       "      <td>NaN</td>\n",
       "      <td>NaN</td>\n",
       "      <td>NaN</td>\n",
       "      <td>NaN</td>\n",
       "      <td>NaN</td>\n",
       "      <td>NaN</td>\n",
       "    </tr>\n",
       "    <tr>\n",
       "      <th>VMail Message</th>\n",
       "      <td>3333</td>\n",
       "      <td>NaN</td>\n",
       "      <td>NaN</td>\n",
       "      <td>NaN</td>\n",
       "      <td>8.09901</td>\n",
       "      <td>13.6884</td>\n",
       "      <td>0</td>\n",
       "      <td>0</td>\n",
       "      <td>0</td>\n",
       "      <td>20</td>\n",
       "      <td>51</td>\n",
       "    </tr>\n",
       "    <tr>\n",
       "      <th>Day Mins</th>\n",
       "      <td>3333</td>\n",
       "      <td>NaN</td>\n",
       "      <td>NaN</td>\n",
       "      <td>NaN</td>\n",
       "      <td>179.775</td>\n",
       "      <td>54.4674</td>\n",
       "      <td>0</td>\n",
       "      <td>143.7</td>\n",
       "      <td>179.4</td>\n",
       "      <td>216.4</td>\n",
       "      <td>350.8</td>\n",
       "    </tr>\n",
       "    <tr>\n",
       "      <th>Day Calls</th>\n",
       "      <td>3333</td>\n",
       "      <td>NaN</td>\n",
       "      <td>NaN</td>\n",
       "      <td>NaN</td>\n",
       "      <td>100.436</td>\n",
       "      <td>20.0691</td>\n",
       "      <td>0</td>\n",
       "      <td>87</td>\n",
       "      <td>101</td>\n",
       "      <td>114</td>\n",
       "      <td>165</td>\n",
       "    </tr>\n",
       "    <tr>\n",
       "      <th>Day Charge</th>\n",
       "      <td>3333</td>\n",
       "      <td>NaN</td>\n",
       "      <td>NaN</td>\n",
       "      <td>NaN</td>\n",
       "      <td>30.5623</td>\n",
       "      <td>9.25943</td>\n",
       "      <td>0</td>\n",
       "      <td>24.43</td>\n",
       "      <td>30.5</td>\n",
       "      <td>36.79</td>\n",
       "      <td>59.64</td>\n",
       "    </tr>\n",
       "    <tr>\n",
       "      <th>Eve Mins</th>\n",
       "      <td>3333</td>\n",
       "      <td>NaN</td>\n",
       "      <td>NaN</td>\n",
       "      <td>NaN</td>\n",
       "      <td>200.98</td>\n",
       "      <td>50.7138</td>\n",
       "      <td>0</td>\n",
       "      <td>166.6</td>\n",
       "      <td>201.4</td>\n",
       "      <td>235.3</td>\n",
       "      <td>363.7</td>\n",
       "    </tr>\n",
       "    <tr>\n",
       "      <th>Eve Calls</th>\n",
       "      <td>3333</td>\n",
       "      <td>NaN</td>\n",
       "      <td>NaN</td>\n",
       "      <td>NaN</td>\n",
       "      <td>100.114</td>\n",
       "      <td>19.9226</td>\n",
       "      <td>0</td>\n",
       "      <td>87</td>\n",
       "      <td>100</td>\n",
       "      <td>114</td>\n",
       "      <td>170</td>\n",
       "    </tr>\n",
       "    <tr>\n",
       "      <th>Eve Charge</th>\n",
       "      <td>3333</td>\n",
       "      <td>NaN</td>\n",
       "      <td>NaN</td>\n",
       "      <td>NaN</td>\n",
       "      <td>17.0835</td>\n",
       "      <td>4.31067</td>\n",
       "      <td>0</td>\n",
       "      <td>14.16</td>\n",
       "      <td>17.12</td>\n",
       "      <td>20</td>\n",
       "      <td>30.91</td>\n",
       "    </tr>\n",
       "    <tr>\n",
       "      <th>Night Mins</th>\n",
       "      <td>3333</td>\n",
       "      <td>NaN</td>\n",
       "      <td>NaN</td>\n",
       "      <td>NaN</td>\n",
       "      <td>200.872</td>\n",
       "      <td>50.5738</td>\n",
       "      <td>23.2</td>\n",
       "      <td>167</td>\n",
       "      <td>201.2</td>\n",
       "      <td>235.3</td>\n",
       "      <td>395</td>\n",
       "    </tr>\n",
       "    <tr>\n",
       "      <th>Night Calls</th>\n",
       "      <td>3333</td>\n",
       "      <td>NaN</td>\n",
       "      <td>NaN</td>\n",
       "      <td>NaN</td>\n",
       "      <td>100.108</td>\n",
       "      <td>19.5686</td>\n",
       "      <td>33</td>\n",
       "      <td>87</td>\n",
       "      <td>100</td>\n",
       "      <td>113</td>\n",
       "      <td>175</td>\n",
       "    </tr>\n",
       "    <tr>\n",
       "      <th>Night Charge</th>\n",
       "      <td>3333</td>\n",
       "      <td>NaN</td>\n",
       "      <td>NaN</td>\n",
       "      <td>NaN</td>\n",
       "      <td>9.03932</td>\n",
       "      <td>2.27587</td>\n",
       "      <td>1.04</td>\n",
       "      <td>7.52</td>\n",
       "      <td>9.05</td>\n",
       "      <td>10.59</td>\n",
       "      <td>17.77</td>\n",
       "    </tr>\n",
       "    <tr>\n",
       "      <th>Intl Mins</th>\n",
       "      <td>3333</td>\n",
       "      <td>NaN</td>\n",
       "      <td>NaN</td>\n",
       "      <td>NaN</td>\n",
       "      <td>10.2373</td>\n",
       "      <td>2.79184</td>\n",
       "      <td>0</td>\n",
       "      <td>8.5</td>\n",
       "      <td>10.3</td>\n",
       "      <td>12.1</td>\n",
       "      <td>20</td>\n",
       "    </tr>\n",
       "    <tr>\n",
       "      <th>Intl Calls</th>\n",
       "      <td>3333</td>\n",
       "      <td>NaN</td>\n",
       "      <td>NaN</td>\n",
       "      <td>NaN</td>\n",
       "      <td>4.47945</td>\n",
       "      <td>2.46121</td>\n",
       "      <td>0</td>\n",
       "      <td>3</td>\n",
       "      <td>4</td>\n",
       "      <td>6</td>\n",
       "      <td>20</td>\n",
       "    </tr>\n",
       "    <tr>\n",
       "      <th>Intl Charge</th>\n",
       "      <td>3333</td>\n",
       "      <td>NaN</td>\n",
       "      <td>NaN</td>\n",
       "      <td>NaN</td>\n",
       "      <td>2.76458</td>\n",
       "      <td>0.753773</td>\n",
       "      <td>0</td>\n",
       "      <td>2.3</td>\n",
       "      <td>2.78</td>\n",
       "      <td>3.27</td>\n",
       "      <td>5.4</td>\n",
       "    </tr>\n",
       "    <tr>\n",
       "      <th>CustServ Calls</th>\n",
       "      <td>3333</td>\n",
       "      <td>NaN</td>\n",
       "      <td>NaN</td>\n",
       "      <td>NaN</td>\n",
       "      <td>1.56286</td>\n",
       "      <td>1.31549</td>\n",
       "      <td>0</td>\n",
       "      <td>1</td>\n",
       "      <td>1</td>\n",
       "      <td>2</td>\n",
       "      <td>9</td>\n",
       "    </tr>\n",
       "    <tr>\n",
       "      <th>Churn?</th>\n",
       "      <td>3333</td>\n",
       "      <td>2</td>\n",
       "      <td>False.</td>\n",
       "      <td>2850</td>\n",
       "      <td>NaN</td>\n",
       "      <td>NaN</td>\n",
       "      <td>NaN</td>\n",
       "      <td>NaN</td>\n",
       "      <td>NaN</td>\n",
       "      <td>NaN</td>\n",
       "      <td>NaN</td>\n",
       "    </tr>\n",
       "  </tbody>\n",
       "</table>\n",
       "</div>"
      ],
      "text/plain": [
       "               count unique       top  freq     mean       std   min    25%  \\\n",
       "State           3333     51        WV   106      NaN       NaN   NaN    NaN   \n",
       "Account Length  3333    NaN       NaN   NaN  101.065   39.8221     1     74   \n",
       "Area Code       3333    NaN       NaN   NaN  437.182   42.3713   408    408   \n",
       "Phone           3333   3333  374-8042     1      NaN       NaN   NaN    NaN   \n",
       "Int'l Plan      3333      2        no  3010      NaN       NaN   NaN    NaN   \n",
       "VMail Plan      3333      2        no  2411      NaN       NaN   NaN    NaN   \n",
       "VMail Message   3333    NaN       NaN   NaN  8.09901   13.6884     0      0   \n",
       "Day Mins        3333    NaN       NaN   NaN  179.775   54.4674     0  143.7   \n",
       "Day Calls       3333    NaN       NaN   NaN  100.436   20.0691     0     87   \n",
       "Day Charge      3333    NaN       NaN   NaN  30.5623   9.25943     0  24.43   \n",
       "Eve Mins        3333    NaN       NaN   NaN   200.98   50.7138     0  166.6   \n",
       "Eve Calls       3333    NaN       NaN   NaN  100.114   19.9226     0     87   \n",
       "Eve Charge      3333    NaN       NaN   NaN  17.0835   4.31067     0  14.16   \n",
       "Night Mins      3333    NaN       NaN   NaN  200.872   50.5738  23.2    167   \n",
       "Night Calls     3333    NaN       NaN   NaN  100.108   19.5686    33     87   \n",
       "Night Charge    3333    NaN       NaN   NaN  9.03932   2.27587  1.04   7.52   \n",
       "Intl Mins       3333    NaN       NaN   NaN  10.2373   2.79184     0    8.5   \n",
       "Intl Calls      3333    NaN       NaN   NaN  4.47945   2.46121     0      3   \n",
       "Intl Charge     3333    NaN       NaN   NaN  2.76458  0.753773     0    2.3   \n",
       "CustServ Calls  3333    NaN       NaN   NaN  1.56286   1.31549     0      1   \n",
       "Churn?          3333      2    False.  2850      NaN       NaN   NaN    NaN   \n",
       "\n",
       "                  50%    75%    max  \n",
       "State             NaN    NaN    NaN  \n",
       "Account Length    101    127    243  \n",
       "Area Code         415    510    510  \n",
       "Phone             NaN    NaN    NaN  \n",
       "Int'l Plan        NaN    NaN    NaN  \n",
       "VMail Plan        NaN    NaN    NaN  \n",
       "VMail Message       0     20     51  \n",
       "Day Mins        179.4  216.4  350.8  \n",
       "Day Calls         101    114    165  \n",
       "Day Charge       30.5  36.79  59.64  \n",
       "Eve Mins        201.4  235.3  363.7  \n",
       "Eve Calls         100    114    170  \n",
       "Eve Charge      17.12     20  30.91  \n",
       "Night Mins      201.2  235.3    395  \n",
       "Night Calls       100    113    175  \n",
       "Night Charge     9.05  10.59  17.77  \n",
       "Intl Mins        10.3   12.1     20  \n",
       "Intl Calls          4      6     20  \n",
       "Intl Charge      2.78   3.27    5.4  \n",
       "CustServ Calls      1      2      9  \n",
       "Churn?            NaN    NaN    NaN  "
      ]
     },
     "execution_count": 105,
     "metadata": {},
     "output_type": "execute_result"
    }
   ],
   "source": [
    "df_churn.describe(include='all').T"
   ]
  },
  {
   "cell_type": "markdown",
   "metadata": {},
   "source": [
    "#### Проблема 2: Региональные признак\n",
    "Мы можем использовать стандартную схему с OneHotEncoding:"
   ]
  },
  {
   "cell_type": "markdown",
   "metadata": {},
   "source": [
    "для каждой категории создается бинарная маска-столбец, в которой стоит `1` если значение признака равно значению соответствующей категории.\n",
    "\n",
    "Например, для признака \"порт погрзки\" создается бинарная макска из трех стобцов для каждого из портов: С, Q, S<br/>\n",
    "Если пассажир заходил на кораблю в порту Southampton, то его признаковое описание будет соответственно: `[0, 0, 1]`\n",
    "\n",
    "\n",
    "В общем виде это выглядит как-то так:\n",
    "<img src='https://i.imgur.com/mtimFxh.png'>"
   ]
  },
  {
   "cell_type": "code",
   "execution_count": 106,
   "metadata": {},
   "outputs": [
    {
     "data": {
      "text/plain": [
       "51"
      ]
     },
     "execution_count": 106,
     "metadata": {},
     "output_type": "execute_result"
    }
   ],
   "source": [
    "df_churn.loc[:, 'State'].nunique()"
   ]
  },
  {
   "cell_type": "code",
   "execution_count": 107,
   "metadata": {},
   "outputs": [
    {
     "data": {
      "text/plain": [
       "0    KS\n",
       "1    OH\n",
       "2    NJ\n",
       "3    OH\n",
       "4    OK\n",
       "Name: State, dtype: object"
      ]
     },
     "execution_count": 107,
     "metadata": {},
     "output_type": "execute_result"
    }
   ],
   "source": [
    "df_churn.State.head()"
   ]
  },
  {
   "cell_type": "markdown",
   "metadata": {},
   "source": [
    "Можно ли его как-то неявно включить в модель?"
   ]
  },
  {
   "cell_type": "markdown",
   "metadata": {},
   "source": [
    "Почитайте [тут](https://alexanderdyakonov.wordpress.com/2016/08/03/python-%D0%BA%D0%B0%D1%82%D0%B5%D0%B3%D0%BE%D1%80%D0%B8%D0%B0%D0%BB%D1%8C%D0%BD%D1%8B%D0%B5-%D0%BF%D1%80%D0%B8%D0%B7%D0%BD%D0%B0%D0%BA%D0%B8/)"
   ]
  },
  {
   "cell_type": "markdown",
   "metadata": {},
   "source": [
    "#### Проблема 3: Довольно сильный перекос классов"
   ]
  },
  {
   "cell_type": "code",
   "execution_count": 108,
   "metadata": {},
   "outputs": [
    {
     "data": {
      "text/plain": [
       "False.    2850\n",
       "True.      483\n",
       "Name: Churn?, dtype: int64"
      ]
     },
     "execution_count": 108,
     "metadata": {},
     "output_type": "execute_result"
    }
   ],
   "source": [
    "df_churn.loc[:, 'Churn?'].value_counts()"
   ]
  },
  {
   "cell_type": "markdown",
   "metadata": {},
   "source": [
    "1. Подготовим данные\n",
    "    1. Удалите ненужные признаки\n",
    "    1. Преобразуйте категориальные и бинарные признаки\n",
    "    1. Преобразуйте целевую переменную"
   ]
  },
  {
   "cell_type": "code",
   "execution_count": 109,
   "metadata": {},
   "outputs": [],
   "source": [
    "def preproc(df_init):\n",
    "    df_preproc = df_init.copy()\n",
    "    \n",
    "    # Удалили признаки\n",
    "    df_preproc = df_preproc.drop(['State', 'Area Code', 'Phone'], axis = 1)\n",
    "    \n",
    "    # Замена бинарных признаков\n",
    "    df_preproc.loc[:,[\"Int'l Plan\", \"VMail Plan\"]] =\\\n",
    "    df_preproc.loc[:,[\"Int'l Plan\", \"VMail Plan\"]].replace({'no':0, 'yes': 1})\n",
    "    # Исправление целевой переменной\n",
    "    df_preproc.loc[:, 'Churn?'] = df_preproc.loc[:, 'Churn?'].replace({'False.': 0,\n",
    "                                                                      'True.': 1})\n",
    "    return df_preproc"
   ]
  },
  {
   "cell_type": "code",
   "execution_count": 110,
   "metadata": {},
   "outputs": [],
   "source": [
    "df_preproc = df_churn.pipe(preproc)"
   ]
  },
  {
   "cell_type": "code",
   "execution_count": 111,
   "metadata": {},
   "outputs": [],
   "source": [
    "X, y = df_preproc.iloc[:, :-1].values, df_preproc.iloc[:, -1].values"
   ]
  },
  {
   "cell_type": "markdown",
   "metadata": {},
   "source": [
    "Будем использовать метод отложенной выборки"
   ]
  },
  {
   "cell_type": "code",
   "execution_count": 112,
   "metadata": {},
   "outputs": [],
   "source": [
    "# Случайным образом делим на обучение и контроль\n",
    "X_train, X_test, y_train, y_test = train_test_split(X, y, test_size = 0.2, random_state = 123)"
   ]
  },
  {
   "cell_type": "code",
   "execution_count": 113,
   "metadata": {},
   "outputs": [],
   "source": [
    "# Сделаем пайплайн\n",
    "# 1) Нормализатор признаков\n",
    "# 2) kNN"
   ]
  },
  {
   "cell_type": "code",
   "execution_count": 114,
   "metadata": {},
   "outputs": [],
   "source": [
    "from sklearn.preprocessing import StandardScaler\n",
    "from sklearn.pipeline import Pipeline\n",
    "from sklearn.neighbors import KNeighborsClassifier\n",
    "from sklearn.model_selection import train_test_split"
   ]
  },
  {
   "cell_type": "code",
   "execution_count": 115,
   "metadata": {},
   "outputs": [],
   "source": [
    "model = Pipeline([\n",
    "    ('scaler', StandardScaler()),\n",
    "    ('knn', KNeighborsClassifier(n_neighbors=5))\n",
    "])"
   ]
  },
  {
   "cell_type": "code",
   "execution_count": 116,
   "metadata": {},
   "outputs": [
    {
     "data": {
      "text/plain": [
       "Pipeline(memory=None,\n",
       "     steps=[('scaler', StandardScaler(copy=True, with_mean=True, with_std=True)), ('knn', KNeighborsClassifier(algorithm='auto', leaf_size=30, metric='minkowski',\n",
       "           metric_params=None, n_jobs=1, n_neighbors=5, p=2,\n",
       "           weights='uniform'))])"
      ]
     },
     "execution_count": 116,
     "metadata": {},
     "output_type": "execute_result"
    }
   ],
   "source": [
    "model.fit(X_train, y_train)"
   ]
  },
  {
   "cell_type": "code",
   "execution_count": 117,
   "metadata": {},
   "outputs": [],
   "source": [
    "y_hat = model.predict(X_test)"
   ]
  },
  {
   "cell_type": "code",
   "execution_count": 118,
   "metadata": {},
   "outputs": [],
   "source": [
    "y_hat_proba = model.predict_proba(X_test, )"
   ]
  },
  {
   "cell_type": "code",
   "execution_count": 119,
   "metadata": {},
   "outputs": [],
   "source": [
    "from sklearn.metrics import roc_auc_score"
   ]
  },
  {
   "cell_type": "code",
   "execution_count": 120,
   "metadata": {},
   "outputs": [
    {
     "data": {
      "text/plain": [
       "0.8360047846889952"
      ]
     },
     "execution_count": 120,
     "metadata": {},
     "output_type": "execute_result"
    }
   ],
   "source": [
    "roc_auc_score(y_test, y_hat_proba[:, 1])"
   ]
  },
  {
   "cell_type": "markdown",
   "metadata": {},
   "source": [
    "Зафиксируйте все гиперпараметры, кроме количества ближайших соседей, найдите наилучшее значение\n",
    "* Пока сделаем это в цикле\n"
   ]
  },
  {
   "cell_type": "code",
   "execution_count": 128,
   "metadata": {},
   "outputs": [],
   "source": [
    "scores_test = []\n",
    "scores_train = []\n",
    "\n",
    "for k in range(1, 15):\n",
    "    model = Pipeline([\n",
    "    ('scaler', StandardScaler()),\n",
    "    ('knn', KNeighborsClassifier(n_neighbors=k))\n",
    "    ])\n",
    "    model.fit(X_train, y_train)\n",
    "    \n",
    "    y_hat_test = model.predict_proba(X_test)\n",
    "    scores_test.append(roc_auc_score(y_test, y_hat_test[:, 1]))\n",
    "    \n",
    "    y_hat_train = model.predict_proba(X_train)\n",
    "    scores_train.append(roc_auc_score(y_train, y_hat_train[:, 1]))\n",
    "    # Your Code Here    \n",
    "    "
   ]
  },
  {
   "cell_type": "code",
   "execution_count": 129,
   "metadata": {
    "scrolled": true
   },
   "outputs": [
    {
     "data": {
      "text/plain": [
       "<matplotlib.legend.Legend at 0x1a1d388f98>"
      ]
     },
     "execution_count": 129,
     "metadata": {},
     "output_type": "execute_result"
    },
    {
     "data": {
      "image/png": "[encoded data removed]",
      "text/plain": [
       "<Figure size 432x288 with 1 Axes>"
      ]
     },
     "metadata": {},
     "output_type": "display_data"
    }
   ],
   "source": [
    "plt.plot(scores_test, label='test')\n",
    "plt.plot(scores_train, label='train')\n",
    "plt.legend()"
   ]
  },
  {
   "cell_type": "markdown",
   "metadata": {},
   "source": [
    "# Дополнительная информация:\n",
    "\n",
    "\n",
    "* [Data Mining and Analysis: Fundamental Concepts and Algorithms](https://repo.palkeo.com/algo/information-retrieval/Data%20mining%20and%20analysis.pdf) Ch 22 \n",
    "* [Effective Pandas](https://github.com/TomAugspurger/effective-pandas)\n",
    "* [Про структуры для поиска соседей](https://jakevdp.github.io/blog/2013/04/29/benchmarking-nearest-neighbor-searches-in-python/)"
   ]
  }
 ],
 "metadata": {
  "anaconda-cloud": {},
  "kernelspec": {
   "display_name": "Python 3",
   "language": "python",
   "name": "python3"
  },
  "language_info": {
   "codemirror_mode": {
    "name": "ipython",
    "version": 3
   },
   "file_extension": ".py",
   "mimetype": "text/x-python",
   "name": "python",
   "nbconvert_exporter": "python",
   "pygments_lexer": "ipython3",
   "version": "3.6.5"
  },
  "nav_menu": {},
  "toc": {
   "base_numbering": 1,
   "nav_menu": {
    "height": "291px",
    "width": "252px"
   },
   "number_sections": false,
   "sideBar": true,
   "skip_h1_title": false,
   "title_cell": "Table of Contents",
   "title_sidebar": "Contents",
   "toc_cell": false,
   "toc_position": {
    "height": "calc(100% - 180px)",
    "left": "10px",
    "top": "150px",
    "width": "293px"
   },
   "toc_section_display": "block",
   "toc_window_display": true
  }
 },
 "nbformat": 4,
 "nbformat_minor": 2
}
